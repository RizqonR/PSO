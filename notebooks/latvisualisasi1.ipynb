{
 "cells": [
  {
   "cell_type": "code",
   "execution_count": null,
   "metadata": {},
   "outputs": [],
   "source": [
    "# Impor library yang diperlukan\n",
    "import pandas as pd\n",
    "import matplotlib.pyplot as plt\n",
    "\n",
    "# Baca dataset dari Google Drive\n",
    "file_url = \"https://drive.google.com/uc?id=12yak_F3B7b6LKuXqq6UrcLv5y30ro0dk\"\n",
    "df = pd.read_csv(file_url)\n",
    "\n",
    "# Mengurutkan pemain berdasarkan jumlah shots secara menurun\n",
    "sorted_df = df.sort_values(by=\"shots\", ascending=False)\n",
    "\n",
    "# Ambil 10 pemain teratas\n",
    "top_players = sorted_df.head(10)\n",
    "\n",
    "# Buat histogram\n",
    "plt.figure(figsize=(10, 6))\n",
    "plt.bar(top_players[\"player_name\"], top_players[\"shots\"], color=\"skyblue\")\n",
    "plt.xlabel(\"Nama Pemain\")\n",
    "plt.ylabel(\"Jumlah Shots\")\n",
    "plt.title(\"Top 10 Pemain dengan Jumlah Shots Terbanyak\")\n",
    "plt.xticks(rotation=45)\n",
    "plt.tight_layout()\n",
    "\n",
    "# Tampilkan plot\n",
    "plt.show()"
   ]
  }
 ],
 "metadata": {
  "kernelspec": {
   "display_name": "Python 3",
   "language": "python",
   "name": "python3"
  },
  "language_info": {
   "codemirror_mode": {
    "name": "ipython",
    "version": 3
   },
   "file_extension": ".py",
   "mimetype": "text/x-python",
   "name": "python",
   "nbconvert_exporter": "python",
   "pygments_lexer": "ipython3",
   "version": "3.9.7"
  }
 },
 "nbformat": 4,
 "nbformat_minor": 5
}
