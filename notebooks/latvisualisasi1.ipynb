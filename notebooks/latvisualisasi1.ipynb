import pandas as pd
import matplotlib.pyplot as plt

# Baca dataset dari file CSV
file_path = r"epl-goalScorer(20-21).csv"
df = pd.read_csv(file_path)

# Mengurutkan pemain berdasarkan jumlah shots secara menurun
sorted_df = df.sort_values(by="shots", ascending=False)

# Ambil 10 pemain teratas
top_players = sorted_df.head(10)

# Buat histogram
plt.figure(figsize=(10, 6))
plt.bar(top_players["player_name"], top_players["shots"], color="skyblue")
plt.xlabel("Nama Pemain")
plt.ylabel("Jumlah Shots")
plt.title("Top 10 Pemain dengan Jumlah Shots Terbanyak")
plt.xticks(rotation=45)
plt.tight_layout()

# Tampilkan plot
plt.show()
