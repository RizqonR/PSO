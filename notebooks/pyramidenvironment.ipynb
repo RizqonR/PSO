{
 "cells": [
  {
   "cell_type": "code",
   "execution_count": 2,
   "id": "24fe3d48-c898-4640-95bb-c292b6384838",
   "metadata": {},
   "outputs": [
    {
     "name": "stdout",
     "output_type": "stream",
     "text": [
      "[[0 0 0 0 0 0 0 0 1]\n",
      " [0 0 0 0 0 0 0 0 0]\n",
      " [0 0 0 0 0 0 0 0 0]\n",
      " [0 0 0 0 0 0 0 0 0]\n",
      " [0 0 0 0 2 0 0 0 0]]\n",
      "Agent moved right. New state: (4, 5)\n",
      "[[0 0 0 0 0 0 0 0 1]\n",
      " [0 0 0 0 0 0 0 0 0]\n",
      " [0 0 0 0 0 0 0 0 0]\n",
      " [0 0 0 0 0 0 0 0 0]\n",
      " [0 0 0 0 0 2 0 0 0]]\n",
      "Agent moved up. New state: (3, 5)\n",
      "[[0 0 0 0 0 0 0 0 1]\n",
      " [0 0 0 0 0 0 0 0 0]\n",
      " [0 0 0 0 0 0 0 0 0]\n",
      " [0 0 0 0 0 2 0 0 0]\n",
      " [0 0 0 0 0 0 0 0 0]]\n",
      "Agent moved up. New state: (2, 5)\n",
      "[[0 0 0 0 0 0 0 0 1]\n",
      " [0 0 0 0 0 0 0 0 0]\n",
      " [0 0 0 0 0 2 0 0 0]\n",
      " [0 0 0 0 0 0 0 0 0]\n",
      " [0 0 0 0 0 0 0 0 0]]\n"
     ]
    }
   ],
   "source": [
    "import numpy as np\n",
    "\n",
    "class PyramidEnvironment:\n",
    "    def __init__(self, size=5):\n",
    "        self.size = size\n",
    "        self.grid = np.zeros((size, 2*size-1), dtype=int)  # Pyramid grid\n",
    "        self.agent_pos = (size-1, size-1)  # Agent starts at the center\n",
    "        self.goal_pos = (0, 2*size-2)  # Goal position at the top right corner\n",
    "        self.actions = [(-1, 0), (0, 1), (1, 0)]  # Up, Right, Down\n",
    "\n",
    "        # Place the goal in the grid\n",
    "        self.grid[self.goal_pos] = 1\n",
    "\n",
    "    def reset(self):\n",
    "        self.agent_pos = (self.size-1, self.size-1)  # Reset agent position to center\n",
    "        return self.agent_pos\n",
    "\n",
    "    def step(self, action):\n",
    "        dx, dy = self.actions[action]\n",
    "        x, y = self.agent_pos\n",
    "        new_x, new_y = x + dx, y + dy\n",
    "\n",
    "        # Check if new position is within bounds\n",
    "        if 0 <= new_x < self.size and 0 <= new_y < 2*self.size-1:\n",
    "            self.agent_pos = (new_x, new_y)\n",
    "\n",
    "        # Calculate reward\n",
    "        reward = -1 if self.agent_pos != self.goal_pos else 10\n",
    "\n",
    "        # Check if episode is done\n",
    "        done = self.agent_pos == self.goal_pos\n",
    "\n",
    "        return self.agent_pos, reward, done\n",
    "\n",
    "    def render(self):\n",
    "        grid_copy = np.copy(self.grid)\n",
    "        grid_copy[self.agent_pos] = 2  # Mark agent position\n",
    "        print(grid_copy)\n",
    "\n",
    "# Example usage\n",
    "env = PyramidEnvironment()\n",
    "env.render()\n",
    "\n",
    "# Moving right\n",
    "new_state, reward, done = env.step(1)\n",
    "print(\"Agent moved right. New state:\", new_state)\n",
    "env.render()\n",
    "\n",
    "# Moving up\n",
    "new_state, reward, done = env.step(0)\n",
    "print(\"Agent moved up. New state:\", new_state)\n",
    "env.render()\n",
    "\n",
    "# Moving up\n",
    "new_state, reward, done = env.step(0)\n",
    "print(\"Agent moved up. New state:\", new_state)\n",
    "env.render()"
   ]
  },
  {
   "cell_type": "code",
   "execution_count": null,
   "id": "ee719267-0cc8-4722-adc6-27ef74dbe5db",
   "metadata": {},
   "outputs": [],
   "source": []
  }
 ],
 "metadata": {
  "kernelspec": {
   "display_name": "Python 3 (ipykernel)",
   "language": "python",
   "name": "python3"
  },
  "language_info": {
   "codemirror_mode": {
    "name": "ipython",
    "version": 3
   },
   "file_extension": ".py",
   "mimetype": "text/x-python",
   "name": "python",
   "nbconvert_exporter": "python",
   "pygments_lexer": "ipython3",
   "version": "3.11.7"
  }
 },
 "nbformat": 4,
 "nbformat_minor": 5
}
