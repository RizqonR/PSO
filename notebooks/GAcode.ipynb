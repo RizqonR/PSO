import numpy as np

# Fungsi fitness
def fitness_function(x):
    return np.sum(x)

# Fungsi untuk menghasilkan populasi awal
def generate_initial_population(population_size, chromosome_length):
    return np.random.randint(2, size=(population_size, chromosome_length))

# Fungsi seleksi turnamen
def tournament_selection(population, fitness_values, tournament_size):
    selected_indices = []
    population_size = len(population)
    
    for _ in range(population_size):
        tournament_indices = np.random.choice(range(population_size), size=tournament_size, replace=False)
        tournament_fitness = fitness_values[tournament_indices]
        winner_index = tournament_indices[np.argmax(tournament_fitness)]
        selected_indices.append(winner_index)
        
    return population[selected_indices]

# Fungsi crossover titik tunggal
def single_point_crossover(parent1, parent2):
    crossover_point = np.random.randint(1, len(parent1))
    child1 = np.concatenate((parent1[:crossover_point], parent2[crossover_point:]))
    child2 = np.concatenate((parent2[:crossover_point], parent1[crossover_point:]))
    return child1, child2

# Fungsi mutasi
def mutation(population, mutation_rate):
    mutated_population = np.copy(population)
    for i in range(len(mutated_population)):
        for j in range(len(mutated_population[i])):
            if np.random.rand() < mutation_rate:
                mutated_population[i][j] = 1 - mutated_population[i][j]
    return mutated_population

# Algoritma Genetika
def genetic_algorithm(population_size, chromosome_length, generations, tournament_size, mutation_rate):
    # Inisialisasi populasi awal
    population = generate_initial_population(population_size, chromosome_length)
    
    for generation in range(generations):
        # Menghitung nilai fitness untuk seluruh populasi
        fitness_values = np.apply_along_axis(fitness_function, 1, population)
        
        # Seleksi turnamen
        selected_population = tournament_selection(population, fitness_values, tournament_size)
        
        # Crossover
        offspring_population = []
        for i in range(0, population_size, 2):
            parent1, parent2 = selected_population[i], selected_population[i+1]
            child1, child2 = single_point_crossover(parent1, parent2)
            offspring_population.extend([child1, child2])
        
        # Mutasi
        mutated_population = mutation(offspring_population, mutation_rate)
        
        # Populasi baru
        population = mutated_population
        
        # Cetak nilai fitness terbaik pada setiap generasi
        best_fitness = np.max(fitness_values)
        print(f"Generation {generation+1}: Best Fitness = {best_fitness}")
    
    # Mengembalikan populasi terakhir dan nilai fitness terbaik
    final_fitness_values = np.apply_along_axis(fitness_function, 1, population)
    best_individual_index = np.argmax(final_fitness_values)
    best_individual = population[best_individual_index]
    best_fitness = final_fitness_values[best_individual_index]
    
    return best_individual, best_fitness

# Parameter Algoritma Genetika
population_size = 100
chromosome_length = 10
generations = 50
tournament_size = 5
mutation_rate = 0.01

# Menjalankan algoritma genetika
best_solution, best_fitness = genetic_algorithm(population_size, chromosome_length, generations, tournament_size, mutation_rate)

print("\nBest Solution:", best_solution)
print("Best Fitness:", best_fitness)